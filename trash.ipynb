{
 "cells": [
  {
   "cell_type": "code",
   "execution_count": 1,
   "metadata": {},
   "outputs": [],
   "source": [
    "import numpy as np"
   ]
  },
  {
   "cell_type": "code",
   "execution_count": 6,
   "metadata": {},
   "outputs": [],
   "source": [
    "conf_matrix = np.array([[15406.,92.,976.,70.,187.],\n",
    " [ 1018.,25.,629.,25.,48.],\n",
    " [ 2625.,120.,3748.,204.,306.],\n",
    " [  430.,23.,789.,54.,60.],\n",
    " [ 1354.,37.,990.,43.,78.]])"
   ]
  },
  {
   "cell_type": "code",
   "execution_count": 23,
   "metadata": {},
   "outputs": [
    {
     "data": {
      "text/plain": [
       "{'Awake': 0, 'NREM1': 1, 'NREM2': 2, 'NREM3': 3, 'REM': 4}"
      ]
     },
     "execution_count": 23,
     "metadata": {},
     "output_type": "execute_result"
    }
   ],
   "source": [
    "def calculate_metrics(confusion_matrices, class_mapping):\n",
    "    n_classes = len(class_mapping)\n",
    "    \n",
    "    # Initialize arrays to store metrics\n",
    "    precision = np.zeros((len(confusion_matrices), n_classes))\n",
    "    recall = np.zeros((len(confusion_matrices), n_classes))\n",
    "    f1_score = np.zeros((len(confusion_matrices), n_classes))\n",
    "    \n",
    "    for i, cm in enumerate(confusion_matrices):\n",
    "        for class_name, class_index in class_mapping.items():\n",
    "            tp = cm[class_index, class_index]\n",
    "            fp = np.sum(cm[:, class_index]) - tp\n",
    "            fn = np.sum(cm[class_index, :]) - tp\n",
    "            \n",
    "            # Calculate precision\n",
    "            precision[i, class_index] = tp / (tp + fp) if (tp + fp) > 0 else 0\n",
    "            \n",
    "            # Calculate recall\n",
    "            recall[i, class_index] = tp / (tp + fn) if (tp + fn) > 0 else 0\n",
    "            \n",
    "            # Calculate F1-score\n",
    "            f1_score[i, class_index] = 2 * (precision[i, class_index] * recall[i, class_index]) / (precision[i, class_index] + recall[i, class_index]) if (precision[i, class_index] + recall[i, class_index]) > 0 else 0\n",
    "    \n",
    "    # Calculate mean and standard deviation for each metric\n",
    "    mean_precision = np.mean(precision, axis=0) * 100\n",
    "    std_precision = np.std(precision, axis=0) * 100\n",
    "    mean_recall = np.mean(recall, axis=0) * 100\n",
    "    std_recall = np.std(recall, axis=0) * 100\n",
    "    mean_f1 = np.mean(f1_score, axis=0) * 100\n",
    "    std_f1 = np.std(f1_score, axis=0) * 100\n",
    "    \n",
    "    # Print results\n",
    "    print(\"Class\\t\\tPrecision\\t\\tRecall\\t\\t\\tF1-Score\")\n",
    "    print(\"-\" * 70)\n",
    "    for class_name, class_index in class_mapping.items():\n",
    "        print(f\"{class_name}\\t\\t{mean_precision[class_index]:.2f}±{std_precision[class_index]:.2f}\\t\\t{mean_recall[class_index]:.2f}±{std_recall[class_index]:.2f}\\t\\t{mean_f1[class_index]:.2f}±{std_f1[class_index]:.2f}\")\n",
    "\n",
    "    \n",
    "class_mapping = {\n",
    "    \"Awake\": 0,\n",
    "    \"NREM1\": 1,\n",
    "    \"NREM2\": 2,\n",
    "    \"NREM3\": 3,\n",
    "    \"REM\": 4\n",
    "}\n",
    "\n",
    "class_mapping"
   ]
  },
  {
   "cell_type": "code",
   "execution_count": 24,
   "metadata": {},
   "outputs": [
    {
     "data": {
      "text/plain": [
       "array([[15406.,    92.,   976.,    70.,   187.],\n",
       "       [ 1018.,    25.,   629.,    25.,    48.],\n",
       "       [ 2625.,   120.,  3748.,   204.,   306.],\n",
       "       [  430.,    23.,   789.,    54.,    60.],\n",
       "       [ 1354.,    37.,   990.,    43.,    78.]])"
      ]
     },
     "execution_count": 24,
     "metadata": {},
     "output_type": "execute_result"
    }
   ],
   "source": [
    "conf_matrix"
   ]
  },
  {
   "cell_type": "code",
   "execution_count": 29,
   "metadata": {},
   "outputs": [
    {
     "name": "stdout",
     "output_type": "stream",
     "text": [
      "Class\t\tPrecision\t\tRecall\t\t\tF1-Score\n",
      "----------------------------------------------------------------------\n",
      "Awake\t\t73.88±0.07\t\t91.97±0.11\t\t81.94±0.08\n",
      "NREM1\t\t9.38±0.97\t\t1.72±0.28\t\t2.90±0.45\n",
      "NREM2\t\t52.44±0.11\t\t53.41±0.11\t\t52.92±0.11\n",
      "NREM3\t\t13.91±0.27\t\t4.23±0.25\t\t6.48±0.32\n",
      "REM\t\t11.81±0.33\t\t3.30±0.18\t\t5.15±0.25\n"
     ]
    }
   ],
   "source": [
    "calculate_metrics([conf_matrix, conf_matrix + np.random.normal(loc=10, size=(5, 5))], class_mapping)"
   ]
  },
  {
   "cell_type": "code",
   "execution_count": 16,
   "metadata": {},
   "outputs": [
    {
     "data": {
      "text/plain": [
       "629.0"
      ]
     },
     "execution_count": 16,
     "metadata": {},
     "output_type": "execute_result"
    }
   ],
   "source": []
  },
  {
   "cell_type": "code",
   "execution_count": null,
   "metadata": {},
   "outputs": [],
   "source": []
  }
 ],
 "metadata": {
  "kernelspec": {
   "display_name": "Python 3",
   "language": "python",
   "name": "python3"
  },
  "language_info": {
   "codemirror_mode": {
    "name": "ipython",
    "version": 3
   },
   "file_extension": ".py",
   "mimetype": "text/x-python",
   "name": "python",
   "nbconvert_exporter": "python",
   "pygments_lexer": "ipython3",
   "version": "3.10.12"
  }
 },
 "nbformat": 4,
 "nbformat_minor": 2
}
